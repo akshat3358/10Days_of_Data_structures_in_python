{
 "cells": [
  {
   "cell_type": "markdown",
   "metadata": {},
   "source": [
    "# Checking the BST property"
   ]
  },
  {
   "cell_type": "code",
   "execution_count": 1,
   "metadata": {},
   "outputs": [],
   "source": [
    "# Solution to find the is BST Satisfied or not with Helper method\n",
    "def is_bst_satisfied(self):\n",
    "    def helper(node, lower=float('-inf'), upper=float('inf')):\n",
    "        if not node:\n",
    "            return True\n",
    "            \n",
    "        val = node.data\n",
    "        if val <= lower or val >= upper:\n",
    "            return False\n",
    "\n",
    "        if not helper(node.right, val, upper):\n",
    "            return False\n",
    "        if not helper(node.left, lower, val):\n",
    "            return False\n",
    "        return True\n",
    "\n",
    "    return helper(self.root)"
   ]
  },
  {
   "cell_type": "code",
   "execution_count": 2,
   "metadata": {},
   "outputs": [
    {
     "name": "stdout",
     "output_type": "stream",
     "text": [
      "True\n",
      "False\n"
     ]
    }
   ],
   "source": [
    "# solution with Stack \n",
    "class TreeNode(object):\n",
    "    def __init__(self, x):\n",
    "        self.val = x\n",
    "        self.left = None\n",
    "        self.right = None\n",
    "\n",
    "def is_BST(root):\n",
    "    stack = []\n",
    "    prev = None\n",
    "    \n",
    "    while root or stack:\n",
    "        while root:\n",
    "            stack.append(root)\n",
    "            root = root.left\n",
    "        root = stack.pop()\n",
    "        if prev and root.val <= prev.val:\n",
    "            return False\n",
    "        prev = root\n",
    "        root = root.right\n",
    "    return True\n",
    "\n",
    "root = TreeNode(2)  \n",
    "root.left = TreeNode(1)  \n",
    "root.right = TreeNode(3) \n",
    " \n",
    "result = is_BST(root)\n",
    "print(result)\n",
    "\n",
    "root = TreeNode(1)  \n",
    "root.left = TreeNode(2)  \n",
    "root.right = TreeNode(3) \n",
    " \n",
    "result = is_BST(root)\n",
    "print(result)"
   ]
  },
  {
   "cell_type": "code",
   "execution_count": null,
   "metadata": {},
   "outputs": [],
   "source": []
  }
 ],
 "metadata": {
  "kernelspec": {
   "display_name": "Python 3",
   "language": "python",
   "name": "python3"
  },
  "language_info": {
   "codemirror_mode": {
    "name": "ipython",
    "version": 3
   },
   "file_extension": ".py",
   "mimetype": "text/x-python",
   "name": "python",
   "nbconvert_exporter": "python",
   "pygments_lexer": "ipython3",
   "version": "3.7.6"
  }
 },
 "nbformat": 4,
 "nbformat_minor": 2
}
