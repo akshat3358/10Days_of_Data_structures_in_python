{
 "cells": [
  {
   "cell_type": "code",
   "execution_count": 1,
   "metadata": {},
   "outputs": [
    {
     "name": "stdout",
     "output_type": "stream",
     "text": [
      "enjoys spending time in movie lots\n",
      "has a penchant for hoarding snacks\n",
      "Day_1 task is done...\n"
     ]
    }
   ],
   "source": [
    "class Node:\n",
    "    def __init__(self, value, link_node=None):\n",
    "        # to initialize the object constructure is used.\n",
    "        self.value = value\n",
    "        self.link_node = link_node\n",
    "\n",
    "    def get_value(self):\n",
    "        return self.value\n",
    "\n",
    "    def get_link_node(self):\n",
    "        return self.link_node\n",
    "\n",
    "    def set_link_node(self, link_node):\n",
    "        self.link_node = link_node\n",
    "\n",
    "\n",
    "yacko = Node(\"likes to yak\")\n",
    "wacko = Node(\"has a penchant for hoarding snacks\")\n",
    "dot = Node(\"enjoys spending time in movie lots\")\n",
    "\n",
    "yacko.set_link_node(dot)\n",
    "\n",
    "dot.set_link_node(wacko)\n",
    "\n",
    "dots_data = (yacko.get_link_node()).get_value()\n",
    "wackos_data = (dot.get_link_node()).get_value()\n",
    "\n",
    "print(dots_data)\n",
    "print(wackos_data)\n",
    "print(\"Day_1 task is done...\")\n",
    "print(\"hello_world.\")"
   ]
  },
  {
   "cell_type": "code",
   "execution_count": null,
   "metadata": {},
   "outputs": [],
   "source": []
  }
 ],
 "metadata": {
  "kernelspec": {
   "display_name": "Python 3",
   "language": "python",
   "name": "python3"
  },
  "language_info": {
   "codemirror_mode": {
    "name": "ipython",
    "version": 3
   },
   "file_extension": ".py",
   "mimetype": "text/x-python",
   "name": "python",
   "nbconvert_exporter": "python",
   "pygments_lexer": "ipython3",
   "version": "3.7.6"
  }
 },
 "nbformat": 4,
 "nbformat_minor": 4
}
