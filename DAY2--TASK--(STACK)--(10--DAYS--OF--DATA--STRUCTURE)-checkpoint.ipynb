{
 "cells": [
  {
   "cell_type": "code",
   "execution_count": 1,
   "metadata": {},
   "outputs": [
    {
     "name": "stdout",
     "output_type": "stream",
     "text": [
      "True\n",
      "True\n",
      "Spiced Paneer\n",
      "Chicken Sausage N Tikka\n"
     ]
    }
   ],
   "source": [
    "class Node:\n",
    "    def __init__(self, value, link_node=None):\n",
    "        #to initialize the object constructure is used.\n",
    "        self.value = value\n",
    "        self.link_node = link_node\n",
    "\n",
    "    def get_value(self):\n",
    "        return self.value\n",
    "\n",
    "    def get_link_node(self):\n",
    "        return self.link_node\n",
    "\n",
    "    def set_next_node(self, link_node):\n",
    "        self.link_node = link_node\n",
    "\n",
    "\n",
    "class Stack(Node):\n",
    "    def __init__(self, size, limit=1000):\n",
    "        self.size = 0\n",
    "        self.limit = limit\n",
    "        self.top_item = None\n",
    "\n",
    "    def has_space(self):\n",
    "        return self.limit > self.size\n",
    "\n",
    "    def push(self, value):\n",
    "        if self.has_space():\n",
    "            super().__init__(value)\n",
    "            self.set_next_node(self.top_item)\n",
    "            self.top_item = value\n",
    "            self.size += 1\n",
    "        else:\n",
    "            print(\"Out Of Space\")\n",
    "\n",
    "    def is_empty(self):\n",
    "        return self.size <= 0\n",
    "\n",
    "    def pop(self):\n",
    "        if not self.is_empty():\n",
    "            item_to_remove = self.top_item\n",
    "            top_item = self.get_link_node()\n",
    "            self.size -= 1\n",
    "            return item_to_remove\n",
    "        else:\n",
    "            print(\"Stack Empty\")\n",
    "            return\n",
    "\n",
    "    def peek(self):\n",
    "        if not self.is_empty():\n",
    "            return self.get_value()\n",
    "        else:\n",
    "            print(\"Stack Empty\")\n",
    "            return\n",
    "\n",
    "\n",
    "Pizza_Stack = Stack(4, 5)\n",
    "\n",
    "print(Pizza_Stack.has_space())\n",
    "\n",
    "print(Pizza_Stack.is_empty())\n",
    "\n",
    "Pizza_Stack.push(\"Veggie Supreme\")\n",
    "Pizza_Stack.push(\"Country Feast\")\n",
    "Pizza_Stack.push(\"Spiced Paneer\")\n",
    "\n",
    "print(Pizza_Stack.pop())\n",
    "\n",
    "Pizza_Stack.push(\"Chicken Sausage N Tikka\")\n",
    "\n",
    "print(Pizza_Stack.peek())"
   ]
  },
  {
   "cell_type": "code",
   "execution_count": null,
   "metadata": {},
   "outputs": [],
   "source": []
  }
 ],
 "metadata": {
  "kernelspec": {
   "display_name": "Python 3",
   "language": "python",
   "name": "python3"
  },
  "language_info": {
   "codemirror_mode": {
    "name": "ipython",
    "version": 3
   },
   "file_extension": ".py",
   "mimetype": "text/x-python",
   "name": "python",
   "nbconvert_exporter": "python",
   "pygments_lexer": "ipython3",
   "version": "3.7.6"
  }
 },
 "nbformat": 4,
 "nbformat_minor": 4
}
