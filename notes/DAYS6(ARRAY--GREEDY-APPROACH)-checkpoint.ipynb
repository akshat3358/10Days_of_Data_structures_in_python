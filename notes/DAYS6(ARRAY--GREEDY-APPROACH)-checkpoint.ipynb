{
 "cells": [
  {
   "cell_type": "code",
   "execution_count": 1,
   "metadata": {},
   "outputs": [
    {
     "name": "stdout",
     "output_type": "stream",
     "text": [
      "True\n",
      "False\n"
     ]
    }
   ],
   "source": [
    "def array_advance(A):\n",
    "    furthest_reached = 0\n",
    "    last_idx = len(A) - 1\n",
    "    i = 0\n",
    "    while i <= furthest_reached and furthest_reached < last_idx:\n",
    "        furthest_reached = max(furthest_reached, A[i] + i)\n",
    "        i += 1\n",
    "    return furthest_reached >= last_idx\n",
    "\n",
    "\n",
    "# True: Possible to navigate to last index in A:\n",
    "# Moves: 1,3,2\n",
    "A = [3, 3, 1, 0, 2, 0, 1]\n",
    "print(array_advance(A))\n",
    "\n",
    "# False: Not possible to navigate to last index in A:\n",
    "A = [3, 2, 0, 0, 2, 0, 1]\n",
    "print(array_advance(A))"
   ]
  },
  {
   "cell_type": "code",
   "execution_count": null,
   "metadata": {},
   "outputs": [],
   "source": []
  }
 ],
 "metadata": {
  "kernelspec": {
   "display_name": "Python 3",
   "language": "python",
   "name": "python3"
  },
  "language_info": {
   "codemirror_mode": {
    "name": "ipython",
    "version": 3
   },
   "file_extension": ".py",
   "mimetype": "text/x-python",
   "name": "python",
   "nbconvert_exporter": "python",
   "pygments_lexer": "ipython3",
   "version": "3.7.6"
  }
 },
 "nbformat": 4,
 "nbformat_minor": 4
}
