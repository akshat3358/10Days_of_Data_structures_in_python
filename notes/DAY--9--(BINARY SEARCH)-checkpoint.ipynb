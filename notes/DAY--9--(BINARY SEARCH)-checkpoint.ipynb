{
 "cells": [
  {
   "cell_type": "code",
   "execution_count": 1,
   "metadata": {},
   "outputs": [
    {
     "name": "stdout",
     "output_type": "stream",
     "text": [
      "True\n",
      "True\n"
     ]
    }
   ],
   "source": [
    "# Linear Search\n",
    "def linear_search(data, target):\t\n",
    "\tfor i in range(len(data)):\n",
    "\t\tif data[i] == target:\n",
    "\t\t\treturn True\n",
    "\treturn False\n",
    "\n",
    "# Iterative Binary Search \n",
    "def binary_search_iterative(data, target):\n",
    "\tlow = 0\n",
    "\thigh = len(data) - 1\n",
    "\n",
    "\twhile low <= high:\n",
    "\t\tmid = (low + high) // 2\n",
    "\t\tif target == data[mid]:\n",
    "\t\t\treturn True\n",
    "\t\telif target < data[mid]:\n",
    "\t\t\thigh = mid - 1\n",
    "\t\telse:\n",
    "\t\t\tlow = mid + 1\n",
    "\treturn False \n",
    "\n",
    "# Recursive Binary Search \n",
    "def binary_search_recursive(data, target, low, high):\n",
    "\tif low > high:\n",
    "\t\treturn False\n",
    "\telse:\n",
    "\t\tmid = (low + high) // 2\n",
    "\t\tif target == data[mid]:\n",
    "\t\t\treturn True\n",
    "\t\telif target < data[mid]:\n",
    "\t\t\treturn binary_search_recursive(data, target, low, mid-1)\n",
    "\t\telse:\n",
    "\t\t\treturn binary_search_recursive(data, target, mid+1, high)\n",
    "\n",
    "\n",
    "data = [2,4,5,7,8,9,12,14,17,19,22,25,27,28,33,37]\n",
    "target = 37\n",
    "\n",
    "print(binary_search_recursive(data, target, 0, len(data)-1))\n",
    "print(binary_search_iterative(data, target))"
   ]
  },
  {
   "cell_type": "code",
   "execution_count": null,
   "metadata": {},
   "outputs": [],
   "source": []
  }
 ],
 "metadata": {
  "kernelspec": {
   "display_name": "Python 3",
   "language": "python",
   "name": "python3"
  },
  "language_info": {
   "codemirror_mode": {
    "name": "ipython",
    "version": 3
   },
   "file_extension": ".py",
   "mimetype": "text/x-python",
   "name": "python",
   "nbconvert_exporter": "python",
   "pygments_lexer": "ipython3",
   "version": "3.7.6"
  }
 },
 "nbformat": 4,
 "nbformat_minor": 4
}
