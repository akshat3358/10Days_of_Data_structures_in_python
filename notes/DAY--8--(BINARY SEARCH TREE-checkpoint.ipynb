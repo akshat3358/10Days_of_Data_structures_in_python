{
 "cells": [
  {
   "cell_type": "code",
   "execution_count": 3,
   "metadata": {},
   "outputs": [
    {
     "name": "stdout",
     "output_type": "stream",
     "text": [
      "True\n",
      "None\n"
     ]
    }
   ],
   "source": [
    "class Node(object):\n",
    "  def __init__(self, data):\n",
    "    self.data = data\n",
    "    self.left = None\n",
    "    self.right = None\n",
    "\n",
    "\n",
    "class BST(object):\n",
    "  def __init__(self, root):\n",
    "    self.root = Node(root)\n",
    "\n",
    "  def insert(self, new_val):\n",
    "    self.insert_helper(self.root, new_val)\n",
    "\n",
    "  def insert_helper(self, current, new_val):\n",
    "    if current.data < new_val:\n",
    "      if current.right:\n",
    "        self.insert_helper(current.right, new_val)\n",
    "      else:\n",
    "        current.right = Node(new_val)\n",
    "    else:\n",
    "        if current.left:\n",
    "          self.insert_helper(current.left, new_val)\n",
    "        else:\n",
    "          current.left = Node(new_val)\n",
    "\n",
    "  def search(self, find_val):\n",
    "    return self.search_helper(self.root, find_val)\n",
    "\n",
    "  def search_helper(self, current, find_val):\n",
    "    if current:\n",
    "      if current.data == find_val:\n",
    "          return True\n",
    "      elif current.data < find_val:\n",
    "          return self.search_helper(current.right, find_val)\n",
    "      else:\n",
    "          return self.search_helper(current.left, find_val)\n",
    "\n",
    "bst = BST(10)\n",
    "bst.insert(3)\n",
    "bst.insert(1)\n",
    "bst.insert(25)\n",
    "bst.insert(9)\n",
    "bst.insert(13)\n",
    "\n",
    "print(bst.search(9))\n",
    "print(bst.search(14))"
   ]
  },
  {
   "cell_type": "code",
   "execution_count": null,
   "metadata": {},
   "outputs": [],
   "source": []
  },
  {
   "cell_type": "code",
   "execution_count": null,
   "metadata": {},
   "outputs": [],
   "source": []
  }
 ],
 "metadata": {
  "kernelspec": {
   "display_name": "Python 3",
   "language": "python",
   "name": "python3"
  },
  "language_info": {
   "codemirror_mode": {
    "name": "ipython",
    "version": 3
   },
   "file_extension": ".py",
   "mimetype": "text/x-python",
   "name": "python",
   "nbconvert_exporter": "python",
   "pygments_lexer": "ipython3",
   "version": "3.7.6"
  }
 },
 "nbformat": 4,
 "nbformat_minor": 4
}
