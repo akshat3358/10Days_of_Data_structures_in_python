{
 "cells": [
  {
   "cell_type": "code",
   "execution_count": 1,
   "metadata": {},
   "outputs": [
    {
     "name": "stdout",
     "output_type": "stream",
     "text": [
      "Enter Number of Elements : 10\n",
      "310\n",
      "315\n",
      "275\n",
      "295\n",
      "270\n",
      "260\n",
      "290\n",
      "230\n",
      "255\n",
      "250\n",
      "30\n"
     ]
    }
   ],
   "source": [
    "def buy_and_sell_stock_once(prices):\n",
    "    maximum = 0\n",
    "    for i in range(0,n-1):\n",
    "        for j in range(1,n):\n",
    "            if prices[i]-prices[j] > maximum:\n",
    "                maximum = prices[j]-prices[i]\n",
    "    return maximum\n",
    "\n",
    "prices = []\n",
    "n = int(input(\"Enter Number of Elements : \"))\n",
    "for i in range(0,n):\n",
    "    element = int(input())\n",
    "    prices.append(element)\n",
    "profit = buy_and_sell_stock_once(prices)\n",
    "print(profit)"
   ]
  },
  {
   "cell_type": "code",
   "execution_count": null,
   "metadata": {},
   "outputs": [],
   "source": []
  }
 ],
 "metadata": {
  "kernelspec": {
   "display_name": "Python 3",
   "language": "python",
   "name": "python3"
  },
  "language_info": {
   "codemirror_mode": {
    "name": "ipython",
    "version": 3
   },
   "file_extension": ".py",
   "mimetype": "text/x-python",
   "name": "python",
   "nbconvert_exporter": "python",
   "pygments_lexer": "ipython3",
   "version": "3.7.6"
  }
 },
 "nbformat": 4,
 "nbformat_minor": 4
}
