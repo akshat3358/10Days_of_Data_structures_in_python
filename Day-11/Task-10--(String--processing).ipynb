{
 "cells": [
  {
   "cell_type": "markdown",
   "metadata": {},
   "source": [
    "# Task--11--(String Processing in Data Structure in Algorithms)"
   ]
  },
  {
   "cell_type": "markdown",
   "metadata": {},
   "source": [
    "# 1.Unique String"
   ]
  },
  {
   "cell_type": "code",
   "execution_count": 8,
   "metadata": {},
   "outputs": [
    {
     "name": "stdout",
     "output_type": "stream",
     "text": [
      "True\n",
      "False\n"
     ]
    }
   ],
   "source": [
    "def is_unique(input_str):\n",
    "    tmp = []\n",
    "    for i in input_str:\n",
    "        if i in tmp:\n",
    "            return False\n",
    "        tmp.append(i)\n",
    "    return True\n",
    "\n",
    "print(is_unique('abcDefGh'))\n",
    "print(is_unique('nonunique'))"
   ]
  },
  {
   "cell_type": "markdown",
   "metadata": {},
   "source": [
    "# 2. String to Integer"
   ]
  },
  {
   "cell_type": "code",
   "execution_count": 21,
   "metadata": {},
   "outputs": [
    {
     "name": "stdout",
     "output_type": "stream",
     "text": [
      "12345\n",
      "-12345\n"
     ]
    }
   ],
   "source": [
    "def str_to_int(input_str):\n",
    "    \n",
    "    if input_str[0:1] == '-':\n",
    "        minus = -1\n",
    "        input_str= input_str.replace(\"-\",\"\")\n",
    "    else:\n",
    "        minus = 1\n",
    "\n",
    "    len_input_str = len(input_str)\n",
    "    idx = 0\n",
    "    tmp = 0\n",
    "\n",
    "    for i in range(idx,len_input_str):\n",
    "        square = (int(len_input_str)-i) - 1\n",
    "        tmp = tmp + (int(input_str[i]) * (10**square))\n",
    "\n",
    "    return(tmp*minus)\n",
    "\n",
    "print(str_to_int('12345'))\n",
    "print(str_to_int('-12345'))"
   ]
  },
  {
   "cell_type": "code",
   "execution_count": null,
   "metadata": {},
   "outputs": [],
   "source": []
  }
 ],
 "metadata": {
  "kernelspec": {
   "display_name": "Python 3",
   "language": "python",
   "name": "python3"
  },
  "language_info": {
   "codemirror_mode": {
    "name": "ipython",
    "version": 3
   },
   "file_extension": ".py",
   "mimetype": "text/x-python",
   "name": "python",
   "nbconvert_exporter": "python",
   "pygments_lexer": "ipython3",
   "version": "3.7.6"
  }
 },
 "nbformat": 4,
 "nbformat_minor": 4
}
